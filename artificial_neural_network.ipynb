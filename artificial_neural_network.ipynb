{
 "cells": [
  {
   "cell_type": "markdown",
   "metadata": {
    "colab_type": "text",
    "id": "3cbb7fRy-eyr"
   },
   "source": [
    "# Artificial Neural Network"
   ]
  },
  {
   "cell_type": "markdown",
   "metadata": {
    "colab_type": "text",
    "id": "8sNDnxE2-pwE"
   },
   "source": [
    "### Importing the libraries"
   ]
  },
  {
   "cell_type": "code",
   "execution_count": 1,
   "metadata": {
    "colab": {},
    "colab_type": "code",
    "id": "lxChR1Rk-umf"
   },
   "outputs": [],
   "source": [
    "import numpy as np\n",
    "import pandas as pd\n",
    "import tensorflow as tf"
   ]
  },
  {
   "cell_type": "code",
   "execution_count": 2,
   "metadata": {
    "colab": {
     "base_uri": "https://localhost:8080/",
     "height": 34
    },
    "colab_type": "code",
    "id": "uBTqR3nacj0e",
    "outputId": "4c0bd183-e424-429a-9fba-ceb841c06888"
   },
   "outputs": [
    {
     "data": {
      "text/plain": [
       "'2.1.0'"
      ]
     },
     "execution_count": 2,
     "metadata": {},
     "output_type": "execute_result"
    }
   ],
   "source": [
    "tf.__version__"
   ]
  },
  {
   "cell_type": "markdown",
   "metadata": {
    "colab_type": "text",
    "id": "AG3FQEch-yuA"
   },
   "source": [
    "## Part 1 - Data Preprocessing"
   ]
  },
  {
   "cell_type": "markdown",
   "metadata": {
    "colab_type": "text",
    "id": "-4zq8Mza_D9O"
   },
   "source": [
    "### Importing the dataset"
   ]
  },
  {
   "cell_type": "code",
   "execution_count": 3,
   "metadata": {
    "colab": {},
    "colab_type": "code",
    "id": "B9CV13Co_HHM"
   },
   "outputs": [],
   "source": [
    "dataset = pd.read_excel('Folds5x2_pp.xlsx')\n",
    "X = dataset.iloc[:, :-1].values\n",
    "y = dataset.iloc[:, -1].values"
   ]
  },
  {
   "cell_type": "markdown",
   "metadata": {
    "colab_type": "text",
    "id": "VC6omXel_Up0"
   },
   "source": [
    "### Splitting the dataset into the Training set and Test set"
   ]
  },
  {
   "cell_type": "code",
   "execution_count": 11,
   "metadata": {
    "colab": {},
    "colab_type": "code",
    "id": "L5edeb2r_agx"
   },
   "outputs": [],
   "source": [
    "from sklearn.model_selection import train_test_split\n",
    "from sklearn.preprocessing import StandardScaler\n",
    "X_train, X_test, y_train, y_test = train_test_split(X, y, test_size = 0.2, random_state = 0)\n",
    "sc = StandardScaler()\n",
    "X_train = sc.fit_transform(X_train)\n",
    "X_test = sc.transform(X_test)"
   ]
  },
  {
   "cell_type": "markdown",
   "metadata": {
    "colab_type": "text",
    "id": "_mSLlAT9_eyI"
   },
   "source": [
    "## Part 2 - Building the ANN"
   ]
  },
  {
   "cell_type": "markdown",
   "metadata": {
    "colab_type": "text",
    "id": "CsBULd_f_wLY"
   },
   "source": [
    "### Initializing the ANN"
   ]
  },
  {
   "cell_type": "code",
   "execution_count": 12,
   "metadata": {
    "colab": {},
    "colab_type": "code",
    "id": "J6Hd97Ls__Nz"
   },
   "outputs": [],
   "source": [
    "ann = tf.keras.models.Sequential()"
   ]
  },
  {
   "cell_type": "markdown",
   "metadata": {
    "colab_type": "text",
    "id": "iitAFJS_ABUn"
   },
   "source": [
    "### Adding the input layer and the first hidden layer"
   ]
  },
  {
   "cell_type": "code",
   "execution_count": 13,
   "metadata": {
    "colab": {},
    "colab_type": "code",
    "id": "ksO_Vv40AHix"
   },
   "outputs": [],
   "source": [
    "ann.add(tf.keras.layers.Dense(units=6, activation='relu'))"
   ]
  },
  {
   "cell_type": "markdown",
   "metadata": {
    "colab_type": "text",
    "id": "-lb4kK_wAKbs"
   },
   "source": [
    "### Adding the second hidden layer"
   ]
  },
  {
   "cell_type": "code",
   "execution_count": 14,
   "metadata": {
    "colab": {},
    "colab_type": "code",
    "id": "c2357OqEAQOQ"
   },
   "outputs": [],
   "source": [
    "ann.add(tf.keras.layers.Dense(units=6, activation='relu'))"
   ]
  },
  {
   "cell_type": "markdown",
   "metadata": {
    "colab_type": "text",
    "id": "jwMOmKb3AdBY"
   },
   "source": [
    "### Adding the output layer"
   ]
  },
  {
   "cell_type": "code",
   "execution_count": 15,
   "metadata": {
    "colab": {},
    "colab_type": "code",
    "id": "YFATpzsUAkLL"
   },
   "outputs": [],
   "source": [
    "ann.add(tf.keras.layers.Dense(units=1))"
   ]
  },
  {
   "cell_type": "markdown",
   "metadata": {
    "colab_type": "text",
    "id": "fq7e4fF6A1yy"
   },
   "source": [
    "## Part 3 - Training the ANN"
   ]
  },
  {
   "cell_type": "markdown",
   "metadata": {
    "colab_type": "text",
    "id": "qDeylAs2An25"
   },
   "source": [
    "### Compiling the ANN"
   ]
  },
  {
   "cell_type": "code",
   "execution_count": 16,
   "metadata": {
    "colab": {},
    "colab_type": "code",
    "id": "pesgbWlCAtB4"
   },
   "outputs": [],
   "source": [
    "ann.compile(optimizer = 'adam', loss = 'mean_squared_error')"
   ]
  },
  {
   "cell_type": "markdown",
   "metadata": {
    "colab_type": "text",
    "id": "YjVuiybYOo7r"
   },
   "source": [
    "### Training the ANN model on the Training set"
   ]
  },
  {
   "cell_type": "code",
   "execution_count": 17,
   "metadata": {
    "colab": {
     "base_uri": "https://localhost:8080/",
     "height": 1000
    },
    "colab_type": "code",
    "id": "c_vV-tiiA5zn",
    "outputId": "4a2b6ee6-ed75-4698-9069-b250e613803f"
   },
   "outputs": [
    {
     "name": "stdout",
     "output_type": "stream",
     "text": [
      "Train on 7654 samples\n",
      "Epoch 1/100\n",
      "7654/7654 [==============================] - 1s 83us/sample - loss: 205307.0570\n",
      "Epoch 2/100\n",
      "7654/7654 [==============================] - 0s 48us/sample - loss: 195210.8912\n",
      "Epoch 3/100\n",
      "7654/7654 [==============================] - 0s 48us/sample - loss: 162280.2020\n",
      "Epoch 4/100\n",
      "7654/7654 [==============================] - 0s 48us/sample - loss: 106262.3228\n",
      "Epoch 5/100\n",
      "7654/7654 [==============================] - 0s 49us/sample - loss: 56145.1209\n",
      "Epoch 6/100\n",
      "7654/7654 [==============================] - 0s 49us/sample - loss: 27472.9427\n",
      "Epoch 7/100\n",
      "7654/7654 [==============================] - 0s 46us/sample - loss: 14214.5640\n",
      "Epoch 8/100\n",
      "7654/7654 [==============================] - 0s 62us/sample - loss: 9270.5968\n",
      "Epoch 9/100\n",
      "7654/7654 [==============================] - 0s 64us/sample - loss: 7031.2100\n",
      "Epoch 10/100\n",
      "7654/7654 [==============================] - 0s 63us/sample - loss: 5463.0664\n",
      "Epoch 11/100\n",
      "7654/7654 [==============================] - 0s 47us/sample - loss: 4220.3638\n",
      "Epoch 12/100\n",
      "7654/7654 [==============================] - 0s 48us/sample - loss: 3232.4993\n",
      "Epoch 13/100\n",
      "7654/7654 [==============================] - 0s 47us/sample - loss: 2467.7193\n",
      "Epoch 14/100\n",
      "7654/7654 [==============================] - 0s 48us/sample - loss: 1881.2430\n",
      "Epoch 15/100\n",
      "7654/7654 [==============================] - 0s 46us/sample - loss: 1443.1563\n",
      "Epoch 16/100\n",
      "7654/7654 [==============================] - 0s 47us/sample - loss: 1118.5981\n",
      "Epoch 17/100\n",
      "7654/7654 [==============================] - 0s 51us/sample - loss: 877.7926\n",
      "Epoch 18/100\n",
      "7654/7654 [==============================] - 0s 47us/sample - loss: 696.6794\n",
      "Epoch 19/100\n",
      "7654/7654 [==============================] - 0s 50us/sample - loss: 559.1108\n",
      "Epoch 20/100\n",
      "7654/7654 [==============================] - 0s 51us/sample - loss: 450.8462\n",
      "Epoch 21/100\n",
      "7654/7654 [==============================] - 0s 49us/sample - loss: 365.2560\n",
      "Epoch 22/100\n",
      "7654/7654 [==============================] - 0s 42us/sample - loss: 294.2565\n",
      "Epoch 23/100\n",
      "7654/7654 [==============================] - 0s 43us/sample - loss: 235.6883\n",
      "Epoch 24/100\n",
      "7654/7654 [==============================] - 0s 47us/sample - loss: 188.3986\n",
      "Epoch 25/100\n",
      "7654/7654 [==============================] - 0s 45us/sample - loss: 149.9085\n",
      "Epoch 26/100\n",
      "7654/7654 [==============================] - 0s 45us/sample - loss: 119.5969\n",
      "Epoch 27/100\n",
      "7654/7654 [==============================] - 0s 46us/sample - loss: 95.5040\n",
      "Epoch 28/100\n",
      "7654/7654 [==============================] - 0s 45us/sample - loss: 76.9025\n",
      "Epoch 29/100\n",
      "7654/7654 [==============================] - 0s 46us/sample - loss: 62.2000\n",
      "Epoch 30/100\n",
      "7654/7654 [==============================] - 0s 46us/sample - loss: 51.4900\n",
      "Epoch 31/100\n",
      "7654/7654 [==============================] - 0s 46us/sample - loss: 43.5722\n",
      "Epoch 32/100\n",
      "7654/7654 [==============================] - 0s 49us/sample - loss: 37.9199\n",
      "Epoch 33/100\n",
      "7654/7654 [==============================] - 0s 43us/sample - loss: 33.5874\n",
      "Epoch 34/100\n",
      "7654/7654 [==============================] - 0s 41us/sample - loss: 30.5698\n",
      "Epoch 35/100\n",
      "7654/7654 [==============================] - 0s 47us/sample - loss: 28.4112\n",
      "Epoch 36/100\n",
      "7654/7654 [==============================] - 0s 47us/sample - loss: 26.8170\n",
      "Epoch 37/100\n",
      "7654/7654 [==============================] - 0s 45us/sample - loss: 25.6748\n",
      "Epoch 38/100\n",
      "7654/7654 [==============================] - 0s 48us/sample - loss: 24.7054\n",
      "Epoch 39/100\n",
      "7654/7654 [==============================] - 0s 53us/sample - loss: 23.8924\n",
      "Epoch 40/100\n",
      "7654/7654 [==============================] - 0s 48us/sample - loss: 23.4111\n",
      "Epoch 41/100\n",
      "7654/7654 [==============================] - 0s 47us/sample - loss: 23.0178\n",
      "Epoch 42/100\n",
      "7654/7654 [==============================] - 0s 46us/sample - loss: 22.6428\n",
      "Epoch 43/100\n",
      "7654/7654 [==============================] - 0s 46us/sample - loss: 22.4532\n",
      "Epoch 44/100\n",
      "7654/7654 [==============================] - 0s 42us/sample - loss: 22.4042\n",
      "Epoch 45/100\n",
      "7654/7654 [==============================] - 0s 39us/sample - loss: 22.1451\n",
      "Epoch 46/100\n",
      "7654/7654 [==============================] - 0s 45us/sample - loss: 22.0571\n",
      "Epoch 47/100\n",
      "7654/7654 [==============================] - 0s 44us/sample - loss: 21.9948\n",
      "Epoch 48/100\n",
      "7654/7654 [==============================] - 0s 43us/sample - loss: 21.9850\n",
      "Epoch 49/100\n",
      "7654/7654 [==============================] - 0s 45us/sample - loss: 21.8054\n",
      "Epoch 50/100\n",
      "7654/7654 [==============================] - 0s 45us/sample - loss: 21.8524\n",
      "Epoch 51/100\n",
      "7654/7654 [==============================] - 0s 43us/sample - loss: 21.7476\n",
      "Epoch 52/100\n",
      "7654/7654 [==============================] - 0s 55us/sample - loss: 21.7744\n",
      "Epoch 53/100\n",
      "7654/7654 [==============================] - 0s 58us/sample - loss: 21.6923\n",
      "Epoch 54/100\n",
      "7654/7654 [==============================] - 0s 62us/sample - loss: 21.6215\n",
      "Epoch 55/100\n",
      "7654/7654 [==============================] - 0s 48us/sample - loss: 21.7193\n",
      "Epoch 56/100\n",
      "7654/7654 [==============================] - 0s 42us/sample - loss: 21.6420\n",
      "Epoch 57/100\n",
      "7654/7654 [==============================] - 0s 46us/sample - loss: 21.6410\n",
      "Epoch 58/100\n",
      "7654/7654 [==============================] - 0s 46us/sample - loss: 21.5089\n",
      "Epoch 59/100\n",
      "7654/7654 [==============================] - 0s 44us/sample - loss: 21.5254\n",
      "Epoch 60/100\n",
      "7654/7654 [==============================] - 0s 46us/sample - loss: 21.4887\n",
      "Epoch 61/100\n",
      "7654/7654 [==============================] - 0s 45us/sample - loss: 21.5983\n",
      "Epoch 62/100\n",
      "7654/7654 [==============================] - 0s 42us/sample - loss: 21.4625\n",
      "Epoch 63/100\n",
      "7654/7654 [==============================] - 0s 46us/sample - loss: 21.4707\n",
      "Epoch 64/100\n",
      "7654/7654 [==============================] - 0s 53us/sample - loss: 21.5110\n",
      "Epoch 65/100\n",
      "7654/7654 [==============================] - 0s 46us/sample - loss: 21.6173\n",
      "Epoch 66/100\n",
      "7654/7654 [==============================] - 0s 43us/sample - loss: 21.4385\n",
      "Epoch 67/100\n",
      "7654/7654 [==============================] - 0s 40us/sample - loss: 21.4489\n",
      "Epoch 68/100\n",
      "7654/7654 [==============================] - 0s 44us/sample - loss: 21.4395\n",
      "Epoch 69/100\n",
      "7654/7654 [==============================] - 0s 47us/sample - loss: 21.5038s - l\n",
      "Epoch 70/100\n",
      "7654/7654 [==============================] - 0s 44us/sample - loss: 21.5638\n",
      "Epoch 71/100\n",
      "7654/7654 [==============================] - 0s 46us/sample - loss: 21.4877\n",
      "Epoch 72/100\n",
      "7654/7654 [==============================] - 0s 51us/sample - loss: 21.2838\n",
      "Epoch 73/100\n",
      "7654/7654 [==============================] - 0s 47us/sample - loss: 21.4878\n",
      "Epoch 74/100\n",
      "7654/7654 [==============================] - 0s 47us/sample - loss: 21.3143\n",
      "Epoch 75/100\n",
      "7654/7654 [==============================] - 0s 49us/sample - loss: 21.4689\n",
      "Epoch 76/100\n",
      "7654/7654 [==============================] - 0s 49us/sample - loss: 21.4903\n",
      "Epoch 77/100\n",
      "7654/7654 [==============================] - 0s 51us/sample - loss: 21.4027\n",
      "Epoch 78/100\n",
      "7654/7654 [==============================] - 0s 44us/sample - loss: 21.3337\n",
      "Epoch 79/100\n",
      "7654/7654 [==============================] - 0s 49us/sample - loss: 21.3951\n",
      "Epoch 80/100\n",
      "7654/7654 [==============================] - 0s 50us/sample - loss: 21.4402\n",
      "Epoch 81/100\n",
      "7654/7654 [==============================] - 0s 46us/sample - loss: 21.3268\n",
      "Epoch 82/100\n",
      "7654/7654 [==============================] - 0s 47us/sample - loss: 21.3356\n",
      "Epoch 83/100\n",
      "7654/7654 [==============================] - 0s 50us/sample - loss: 21.2659\n",
      "Epoch 84/100\n",
      "7654/7654 [==============================] - 0s 53us/sample - loss: 21.3594\n",
      "Epoch 85/100\n",
      "7654/7654 [==============================] - 0s 56us/sample - loss: 21.3338\n",
      "Epoch 86/100\n",
      "7654/7654 [==============================] - 0s 54us/sample - loss: 21.2630\n",
      "Epoch 87/100\n",
      "7654/7654 [==============================] - 0s 53us/sample - loss: 21.2746\n",
      "Epoch 88/100\n",
      "7654/7654 [==============================] - 0s 46us/sample - loss: 21.3256\n",
      "Epoch 89/100\n",
      "7654/7654 [==============================] - 0s 43us/sample - loss: 21.3011\n",
      "Epoch 90/100\n",
      "7654/7654 [==============================] - 0s 48us/sample - loss: 21.3071\n",
      "Epoch 91/100\n",
      "7654/7654 [==============================] - 0s 47us/sample - loss: 21.1749\n",
      "Epoch 92/100\n"
     ]
    },
    {
     "name": "stdout",
     "output_type": "stream",
     "text": [
      "7654/7654 [==============================] - 0s 50us/sample - loss: 21.3170\n",
      "Epoch 93/100\n",
      "7654/7654 [==============================] - 0s 50us/sample - loss: 21.2673\n",
      "Epoch 94/100\n",
      "7654/7654 [==============================] - 0s 47us/sample - loss: 21.3294\n",
      "Epoch 95/100\n",
      "7654/7654 [==============================] - 0s 47us/sample - loss: 21.1958\n",
      "Epoch 96/100\n",
      "7654/7654 [==============================] - 0s 49us/sample - loss: 21.2346\n",
      "Epoch 97/100\n",
      "7654/7654 [==============================] - 0s 52us/sample - loss: 21.1063\n",
      "Epoch 98/100\n",
      "7654/7654 [==============================] - 0s 50us/sample - loss: 21.2711\n",
      "Epoch 99/100\n",
      "7654/7654 [==============================] - 0s 50us/sample - loss: 21.1136\n",
      "Epoch 100/100\n",
      "7654/7654 [==============================] - 0s 51us/sample - loss: 21.1723\n"
     ]
    },
    {
     "data": {
      "text/plain": [
       "<tensorflow.python.keras.callbacks.History at 0x21f37abecc8>"
      ]
     },
     "execution_count": 17,
     "metadata": {},
     "output_type": "execute_result"
    }
   ],
   "source": [
    "ann.fit(X_train, y_train, batch_size = 32, epochs = 100)"
   ]
  },
  {
   "cell_type": "markdown",
   "metadata": {
    "colab_type": "text",
    "id": "0H0zKKNEBLD5"
   },
   "source": [
    "### Predicting the results of the Test set"
   ]
  },
  {
   "cell_type": "code",
   "execution_count": 18,
   "metadata": {
    "colab": {
     "base_uri": "https://localhost:8080/",
     "height": 134
    },
    "colab_type": "code",
    "id": "IA0yApEmBG1X",
    "outputId": "cb981e1f-9204-4a2a-fece-9d66a6919189"
   },
   "outputs": [
    {
     "name": "stdout",
     "output_type": "stream",
     "text": [
      "[[430.77 431.23]\n",
      " [458.5  460.01]\n",
      " [462.75 461.14]\n",
      " ...\n",
      " [469.52 473.26]\n",
      " [442.52 438.  ]\n",
      " [462.05 463.28]]\n"
     ]
    }
   ],
   "source": [
    "y_pred = ann.predict(X_test)\n",
    "np.set_printoptions(precision=2)\n",
    "print(np.concatenate((y_pred.reshape(len(y_pred),1), y_test.reshape(len(y_test),1)),1))"
   ]
  },
  {
   "cell_type": "code",
   "execution_count": null,
   "metadata": {},
   "outputs": [],
   "source": []
  }
 ],
 "metadata": {
  "colab": {
   "collapsed_sections": [],
   "name": "Artificial Neural Network",
   "provenance": [],
   "toc_visible": true
  },
  "kernelspec": {
   "display_name": "Python 3",
   "language": "python",
   "name": "python3"
  },
  "language_info": {
   "codemirror_mode": {
    "name": "ipython",
    "version": 3
   },
   "file_extension": ".py",
   "mimetype": "text/x-python",
   "name": "python",
   "nbconvert_exporter": "python",
   "pygments_lexer": "ipython3",
   "version": "3.7.7"
  }
 },
 "nbformat": 4,
 "nbformat_minor": 1
}
